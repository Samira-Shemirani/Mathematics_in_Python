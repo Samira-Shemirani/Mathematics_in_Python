{
 "cells": [
  {
   "cell_type": "markdown",
   "id": "aa7a869f",
   "metadata": {},
   "source": [
    "# SymPy"
   ]
  },
  {
   "cell_type": "markdown",
   "id": "ae50ff75",
   "metadata": {},
   "source": [
    "https://docs.sympy.org/latest/tutorials/intro-tutorial/matrices.html#determinant"
   ]
  },
  {
   "cell_type": "code",
   "execution_count": 2,
   "id": "d539617a",
   "metadata": {},
   "outputs": [],
   "source": [
    "from sympy import * # importing the library\n",
    "init_printing(use_unicode=True) # this said to be necessary"
   ]
  },
  {
   "cell_type": "markdown",
   "id": "5b347777",
   "metadata": {},
   "source": [
    "To make a matrix in SymPy, use the 'Matrix' object. A matrix is constructed by providing a list of row vectors that make up the matrix."
   ]
  },
  {
   "cell_type": "code",
   "execution_count": 10,
   "id": "b168a433",
   "metadata": {},
   "outputs": [
    {
     "data": {
      "image/png": "[encoded data removed]",
      "text/latex": [
       "$\\displaystyle \\left[\\begin{matrix}1 & 2 & 3 & 4\\\\1 & 0 & 2 & 0\\\\0 & 1 & 2 & 3\\\\2 & 3 & 0 & 0\\end{matrix}\\right]$"
      ],
      "text/plain": [
       "⎡1  2  3  4⎤\n",
       "⎢          ⎥\n",
       "⎢1  0  2  0⎥\n",
       "⎢          ⎥\n",
       "⎢0  1  2  3⎥\n",
       "⎢          ⎥\n",
       "⎣2  3  0  0⎦"
      ]
     },
     "execution_count": 10,
     "metadata": {},
     "output_type": "execute_result"
    }
   ],
   "source": [
    "# this is the matrix which I earlier computed the determinant by hand\n",
    "Matrix([[1, 2, 3, 4], [1, 0, 2, 0], [0, 1, 2, 3], [2, 3, 0, 0]])"
   ]
  },
  {
   "cell_type": "code",
   "execution_count": 11,
   "id": "de2aa9a8",
   "metadata": {},
   "outputs": [],
   "source": [
    "from sympy import shape # let's check out the shape of the matrix"
   ]
  },
  {
   "cell_type": "code",
   "execution_count": 5,
   "id": "653a8c12",
   "metadata": {},
   "outputs": [],
   "source": [
    "Q = Matrix([[1, 2, 3, 4], [1, 0, 2, 0], [0, 1, 2, 3], [2, 3, 0, 0]])"
   ]
  },
  {
   "cell_type": "code",
   "execution_count": 6,
   "id": "45e0517c",
   "metadata": {},
   "outputs": [
    {
     "data": {
      "image/png": "[encoded data removed]",
      "text/latex": [
       "$\\displaystyle \\left( 4, \\  4\\right)$"
      ],
      "text/plain": [
       "(4, 4)"
      ]
     },
     "execution_count": 6,
     "metadata": {},
     "output_type": "execute_result"
    }
   ],
   "source": [
    "shape(Q)"
   ]
  },
  {
   "cell_type": "markdown",
   "id": "91e547c3",
   "metadata": {},
   "source": [
    "#### Determinant\n",
    "\n",
    "To compute the determinant of a matrix, use 'det'."
   ]
  },
  {
   "cell_type": "code",
   "execution_count": 12,
   "id": "609cfa6d",
   "metadata": {},
   "outputs": [
    {
     "data": {
      "image/png": "[encoded data removed]",
      "text/latex": [
       "$\\displaystyle 7$"
      ],
      "text/plain": [
       "7"
      ]
     },
     "execution_count": 12,
     "metadata": {},
     "output_type": "execute_result"
    }
   ],
   "source": [
    "Q.det() # as you can see, I also computed this answer by hand!"
   ]
  },
  {
   "cell_type": "markdown",
   "id": "1d4ca7bb",
   "metadata": {},
   "source": [
    "# Numpy"
   ]
  },
  {
   "cell_type": "markdown",
   "id": "bfaa035b",
   "metadata": {},
   "source": [
    "https://numpy.org/doc/stable/reference/generated/numpy.linalg.det.html"
   ]
  },
  {
   "cell_type": "code",
   "execution_count": 1,
   "id": "0e5bda24",
   "metadata": {},
   "outputs": [],
   "source": [
    "import numpy as np  # importing the library"
   ]
  },
  {
   "cell_type": "markdown",
   "id": "bcf7e3cd",
   "metadata": {},
   "source": [
    "Computing determinants for a stack of matrices:"
   ]
  },
  {
   "cell_type": "code",
   "execution_count": 2,
   "id": "15d5bdd2",
   "metadata": {},
   "outputs": [
    {
     "data": {
      "text/plain": [
       "array([[1, 2, 3, 4],\n",
       "       [1, 0, 2, 0],\n",
       "       [0, 1, 2, 3],\n",
       "       [2, 3, 0, 0]])"
      ]
     },
     "execution_count": 2,
     "metadata": {},
     "output_type": "execute_result"
    }
   ],
   "source": [
    "# this is the matrix which I earlier computed the determinant by hand and also by SymPy\n",
    "Q = np.array([[1, 2, 3, 4], [1, 0, 2, 0], [0, 1, 2, 3], [2, 3, 0, 0]])\n",
    "Q"
   ]
  },
  {
   "cell_type": "code",
   "execution_count": 3,
   "id": "d88090bd",
   "metadata": {},
   "outputs": [
    {
     "data": {
      "text/plain": [
       "(4, 4)"
      ]
     },
     "execution_count": 3,
     "metadata": {},
     "output_type": "execute_result"
    }
   ],
   "source": [
    "# let's check out the shape of the matrix\n",
    "Q.shape"
   ]
  },
  {
   "cell_type": "markdown",
   "id": "520e14bf",
   "metadata": {},
   "source": [
    "#### Determinant\n",
    "\n",
    "To compute the determinant of a matrix, use 'linalg.det'."
   ]
  },
  {
   "cell_type": "code",
   "execution_count": 7,
   "id": "5be03c19",
   "metadata": {},
   "outputs": [
    {
     "data": {
      "text/plain": [
       "6.999999999999999"
      ]
     },
     "execution_count": 7,
     "metadata": {},
     "output_type": "execute_result"
    }
   ],
   "source": [
    "np.linalg.det(Q) # as you can see, I got almost the same answer by hand and by SymPy earlier!"
   ]
  }
 ],
 "metadata": {
  "kernelspec": {
   "display_name": "Python 3 (ipykernel)",
   "language": "python",
   "name": "python3"
  },
  "language_info": {
   "codemirror_mode": {
    "name": "ipython",
    "version": 3
   },
   "file_extension": ".py",
   "mimetype": "text/x-python",
   "name": "python",
   "nbconvert_exporter": "python",
   "pygments_lexer": "ipython3",
   "version": "3.10.9"
  }
 },
 "nbformat": 4,
 "nbformat_minor": 5
}
